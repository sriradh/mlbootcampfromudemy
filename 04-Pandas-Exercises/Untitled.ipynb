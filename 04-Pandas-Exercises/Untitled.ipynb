{
 "cells": [
  {
   "cell_type": "code",
   "execution_count": 4,
   "metadata": {},
   "outputs": [
    {
     "name": "stdout",
     "output_type": "stream",
     "text": [
      "+--------------------+---------------+--------+--------------------+--------------------+--------------------+----------------+----------------+------------+--------------------+--------------------+--------------------+---------------+--------------+\n",
      "|             Address|            Lot|AM or PM|        Browser Info|             Company|         Credit Card|     CC Exp Date|CC Security Code| CC Provider|               Email|                 Job|          IP Address|       Language|Purchase Price|\n",
      "+--------------------+---------------+--------+--------------------+--------------------+--------------------+----------------+----------------+------------+--------------------+--------------------+--------------------+---------------+--------------+\n",
      "|16629 Pace Camp A...|           null|    null|                null|                null|                null|            null|            null|        null|                null|                null|                null|           null|          null|\n",
      "|       Alexisborough| NE 77130-7478\"|   46 in|                  PM|Opera/9.56.(X11; ...|     Martinez-Herman|6011929061123406|           02/20|         900|        JCB 16 digit|   pdunlap@yahoo.com|Scientist, produc...|149.146.147.205|            el|\n",
      "|9374 Jasmine Spur...|           null|    null|                null|                null|                null|            null|            null|        null|                null|                null|                null|           null|          null|\n",
      "|          South John| TN 84355-4179\"|   28 rn|                  PM|Opera/8.93.(Windo...|Fletcher, Richard...|3337758169645356|           11/18|         561|          Mastercard|  anthony41@reed.com|   Drilling engineer|   15.160.41.51|            fr|\n",
      "|  Unit 0065 Box 5052|           null|    null|                null|                null|                null|            null|            null|        null|                null|                null|                null|           null|          null|\n",
      "|       DPO AP 27450\"|          94 vE|      PM|Mozilla/5.0 (comp...|Simpson, Williams...|        675957666125|           08/19|             699|JCB 16 digit|amymiller@morales...|Customer service ...|      132.207.160.22|             de|          0.95|\n",
      "|    7780 Julia Fords|           null|    null|                null|                null|                null|            null|            null|        null|                null|                null|                null|           null|          null|\n",
      "|           New Stacy|      WA 45798\"|   36 vm|                  PM|Mozilla/5.0 (Maci...|Williams, Marshal...|6011578504430710|           02/24|         384|            Discover|brent16@olson-rob...|   Drilling engineer|   30.250.74.19|            es|\n",
      "|23012 Munoz Drive...|           null|    null|                null|                null|                null|            null|            null|        null|                null|                null|                null|           null|          null|\n",
      "|         New Cynthia|      TX 57826\"|   20 IE|                  AM|Opera/9.58.(X11; ...|Brown, Watson and...|6011456623207998|           10/25|         678|Diners Club / Car...|christopherwright...|         Fine artist|   24.140.33.94|            es|\n",
      "|7502 Powell Missi...|           null|    null|                null|                null|                null|            null|            null|        null|                null|                null|                null|           null|          null|\n",
      "|          Travisland| VA 30493-5334\"|   21 XT|                  PM|Mozilla/5.0 (Maci...|      Silva-Anderson|  30246185196287|           07/25|        7169|            Discover|   ynguyen@gmail.com|   Fish farm manager|  55.96.152.147|            ru|\n",
      "|93971 Conway Caus...|           null|    null|                null|                null|                null|            null|            null|        null|                null|                null|                null|           null|          null|\n",
      "|       Andersonburgh|      AZ 75107\"|   96 Xt|                  AM|Mozilla/5.0 (comp...|     Gibson and Sons|6011398782655569|           07/24|         714|       VISA 16 digit|  olivia04@yahoo.com|              Dancer| 127.252.144.18|            de|\n",
      "|260 Rachel Plains...|           null|    null|                null|                null|                null|            null|            null|        null|                null|                null|                null|           null|          null|\n",
      "|          Castroberg| WV 24804-9384\"|   96 pG|                  PM|Mozilla/5.0 (X11;...|    Marshall-Collins|    561252141909|           06/25|         256|       VISA 13 digit|phillip48@parks.info|     Event organiser| 224.247.97.150|            pt|\n",
      "|     2129 Dylan Burg|           null|    null|                null|                null|                null|            null|            null|        null|                null|                null|                null|           null|          null|\n",
      "|        New Michelle|      ME 28650\"|   45 JN|                  PM|Mozilla/5.0 (Maci...|   Galloway and Sons| 180041795790001|           04/24|         899|        JCB 16 digit|kdavis@rasmussen.com|   Financial manager|146.234.201.229|            ru|\n",
      "|3795 Dawson Exten...|           null|    null|                null|                null|                null|            null|            null|        null|                null|                null|                null|           null|          null|\n",
      "|       Lake Tinafort|      ID 88739\"|   15 Ug|                  AM|Mozilla/5.0 (X11;...|Rivera, Buchanan ...|   4396283918371|           01/17|         931|    American Express|qcoleman@hunt-hue...|  Forensic scientist|  236.198.199.8|            zh|\n",
      "+--------------------+---------------+--------+--------------------+--------------------+--------------------+----------------+----------------+------------+--------------------+--------------------+--------------------+---------------+--------------+\n",
      "only showing top 20 rows\n",
      "\n"
     ]
    }
   ],
   "source": [
    "df = spark.read.csv(\"Ecommerce Purchases\", header=True)\n",
    "df.show()"
   ]
  },
  {
   "cell_type": "code",
   "execution_count": 2,
   "metadata": {},
   "outputs": [
    {
     "name": "stdout",
     "output_type": "stream",
     "text": [
      "+--------------------+---------------+--------+--------------------+--------------------+--------------------+----------------+----------------+------------+--------------------+--------------------+--------------------+---------------+--------------+\n",
      "|                 _c0|            _c1|     _c2|                 _c3|                 _c4|                 _c5|             _c6|             _c7|         _c8|                 _c9|                _c10|                _c11|           _c12|          _c13|\n",
      "+--------------------+---------------+--------+--------------------+--------------------+--------------------+----------------+----------------+------------+--------------------+--------------------+--------------------+---------------+--------------+\n",
      "|             Address|            Lot|AM or PM|        Browser Info|             Company|         Credit Card|     CC Exp Date|CC Security Code| CC Provider|               Email|                 Job|          IP Address|       Language|Purchase Price|\n",
      "|16629 Pace Camp A...|           null|    null|                null|                null|                null|            null|            null|        null|                null|                null|                null|           null|          null|\n",
      "|       Alexisborough| NE 77130-7478\"|   46 in|                  PM|Opera/9.56.(X11; ...|     Martinez-Herman|6011929061123406|           02/20|         900|        JCB 16 digit|   pdunlap@yahoo.com|Scientist, produc...|149.146.147.205|            el|\n",
      "|9374 Jasmine Spur...|           null|    null|                null|                null|                null|            null|            null|        null|                null|                null|                null|           null|          null|\n",
      "|          South John| TN 84355-4179\"|   28 rn|                  PM|Opera/8.93.(Windo...|Fletcher, Richard...|3337758169645356|           11/18|         561|          Mastercard|  anthony41@reed.com|   Drilling engineer|   15.160.41.51|            fr|\n",
      "|  Unit 0065 Box 5052|           null|    null|                null|                null|                null|            null|            null|        null|                null|                null|                null|           null|          null|\n",
      "|       DPO AP 27450\"|          94 vE|      PM|Mozilla/5.0 (comp...|Simpson, Williams...|        675957666125|           08/19|             699|JCB 16 digit|amymiller@morales...|Customer service ...|      132.207.160.22|             de|          0.95|\n",
      "|    7780 Julia Fords|           null|    null|                null|                null|                null|            null|            null|        null|                null|                null|                null|           null|          null|\n",
      "|           New Stacy|      WA 45798\"|   36 vm|                  PM|Mozilla/5.0 (Maci...|Williams, Marshal...|6011578504430710|           02/24|         384|            Discover|brent16@olson-rob...|   Drilling engineer|   30.250.74.19|            es|\n",
      "|23012 Munoz Drive...|           null|    null|                null|                null|                null|            null|            null|        null|                null|                null|                null|           null|          null|\n",
      "|         New Cynthia|      TX 57826\"|   20 IE|                  AM|Opera/9.58.(X11; ...|Brown, Watson and...|6011456623207998|           10/25|         678|Diners Club / Car...|christopherwright...|         Fine artist|   24.140.33.94|            es|\n",
      "|7502 Powell Missi...|           null|    null|                null|                null|                null|            null|            null|        null|                null|                null|                null|           null|          null|\n",
      "|          Travisland| VA 30493-5334\"|   21 XT|                  PM|Mozilla/5.0 (Maci...|      Silva-Anderson|  30246185196287|           07/25|        7169|            Discover|   ynguyen@gmail.com|   Fish farm manager|  55.96.152.147|            ru|\n",
      "|93971 Conway Caus...|           null|    null|                null|                null|                null|            null|            null|        null|                null|                null|                null|           null|          null|\n",
      "|       Andersonburgh|      AZ 75107\"|   96 Xt|                  AM|Mozilla/5.0 (comp...|     Gibson and Sons|6011398782655569|           07/24|         714|       VISA 16 digit|  olivia04@yahoo.com|              Dancer| 127.252.144.18|            de|\n",
      "|260 Rachel Plains...|           null|    null|                null|                null|                null|            null|            null|        null|                null|                null|                null|           null|          null|\n",
      "|          Castroberg| WV 24804-9384\"|   96 pG|                  PM|Mozilla/5.0 (X11;...|    Marshall-Collins|    561252141909|           06/25|         256|       VISA 13 digit|phillip48@parks.info|     Event organiser| 224.247.97.150|            pt|\n",
      "|     2129 Dylan Burg|           null|    null|                null|                null|                null|            null|            null|        null|                null|                null|                null|           null|          null|\n",
      "|        New Michelle|      ME 28650\"|   45 JN|                  PM|Mozilla/5.0 (Maci...|   Galloway and Sons| 180041795790001|           04/24|         899|        JCB 16 digit|kdavis@rasmussen.com|   Financial manager|146.234.201.229|            ru|\n",
      "|3795 Dawson Exten...|           null|    null|                null|                null|                null|            null|            null|        null|                null|                null|                null|           null|          null|\n",
      "+--------------------+---------------+--------+--------------------+--------------------+--------------------+----------------+----------------+------------+--------------------+--------------------+--------------------+---------------+--------------+\n",
      "only showing top 20 rows\n",
      "\n"
     ]
    }
   ],
   "source": []
  },
  {
   "cell_type": "code",
   "execution_count": null,
   "metadata": {},
   "outputs": [],
   "source": []
  }
 ],
 "metadata": {
  "kernelspec": {
   "display_name": "Python 3",
   "language": "python",
   "name": "python3"
  },
  "language_info": {
   "codemirror_mode": {
    "name": "ipython",
    "version": 3
   },
   "file_extension": ".py",
   "mimetype": "text/x-python",
   "name": "python",
   "nbconvert_exporter": "python",
   "pygments_lexer": "ipython3",
   "version": "3.8.0"
  }
 },
 "nbformat": 4,
 "nbformat_minor": 2
}
